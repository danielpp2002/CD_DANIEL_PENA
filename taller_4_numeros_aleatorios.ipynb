{
  "nbformat": 4,
  "nbformat_minor": 0,
  "metadata": {
    "colab": {
      "provenance": [],
      "authorship_tag": "ABX9TyMF0ua+BhWwroe/dfvYg18c",
      "include_colab_link": true
    },
    "kernelspec": {
      "name": "python3",
      "display_name": "Python 3"
    },
    "language_info": {
      "name": "python"
    }
  },
  "cells": [
    {
      "cell_type": "markdown",
      "metadata": {
        "id": "view-in-github",
        "colab_type": "text"
      },
      "source": [
        "<a href=\"https://colab.research.google.com/github/danielpp2002/CD_DANIEL_PENA/blob/main/taller_4_numeros_aleatorios.ipynb\" target=\"_parent\"><img src=\"https://colab.research.google.com/assets/colab-badge.svg\" alt=\"Open In Colab\"/></a>"
      ]
    },
    {
      "cell_type": "code",
      "execution_count": 4,
      "metadata": {
        "colab": {
          "base_uri": "https://localhost:8080/"
        },
        "id": "2tF8UL73xcLP",
        "outputId": "1df1e18e-adb1-4f1e-ff3d-772484d3cd67"
      },
      "outputs": [
        {
          "output_type": "stream",
          "name": "stdout",
          "text": [
            "El valor estimado de Pi es: 3.14146272\n"
          ]
        }
      ],
      "source": [
        "import random\n",
        "\n",
        "# Definimos la cantidad de puntos que vamos a generar\n",
        "num_puntos = 100000000\n",
        "\n",
        "# Inicializamos los contadores\n",
        "puntos_circulo = 0\n",
        "puntos_totales = 0\n",
        "\n",
        "# Generamos los puntos aleatorios y los contamos\n",
        "for i in range(num_puntos):\n",
        "    x = random.uniform(-1, 1)\n",
        "    y = random.uniform(-1, 1)\n",
        "    distancia = x**2 + y**2\n",
        "    if distancia <= 1:\n",
        "        puntos_circulo += 1\n",
        "    puntos_totales += 1\n",
        "\n",
        "# Calculamos el valor estimado de Pi\n",
        "pi_estimado = 4 * puntos_circulo / puntos_totales\n",
        "\n",
        "# Mostramos el resultado\n",
        "print(\"El valor estimado de Pi es:\", pi_estimado)\n"
      ]
    }
  ]
}