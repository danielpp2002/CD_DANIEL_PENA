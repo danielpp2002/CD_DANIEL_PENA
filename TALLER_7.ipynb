{
  "nbformat": 4,
  "nbformat_minor": 0,
  "metadata": {
    "colab": {
      "provenance": [],
      "authorship_tag": "ABX9TyNEm6goHnDd1JRQAVZOheEV",
      "include_colab_link": true
    },
    "kernelspec": {
      "name": "python3",
      "display_name": "Python 3"
    },
    "language_info": {
      "name": "python"
    }
  },
  "cells": [
    {
      "cell_type": "markdown",
      "metadata": {
        "id": "view-in-github",
        "colab_type": "text"
      },
      "source": [
        "<a href=\"https://colab.research.google.com/github/danielpp2002/CD_DANIEL_PENA/blob/main/TALLER_7.ipynb\" target=\"_parent\"><img src=\"https://colab.research.google.com/assets/colab-badge.svg\" alt=\"Open In Colab\"/></a>"
      ]
    },
    {
      "cell_type": "code",
      "execution_count": 1,
      "metadata": {
        "id": "QBZKGlfjgEFJ"
      },
      "outputs": [],
      "source": [
        "# Importar bibliotecas\n",
        "import pandas as pd\n",
        "import statsmodels.api as sm\n"
      ]
    },
    {
      "cell_type": "code",
      "source": [
        "# Leer el archivo CSV y seleccionar las variables\n",
        "df = pd.read_csv('https://raw.githubusercontent.com/adiacla/bigdata/master/titanic.csv')\n",
        "variables = ['Survived', 'Pclass', 'Sex', 'Age', 'SibSp', 'Parch', 'Fare']\n",
        "df = df[variables].dropna()\n"
      ],
      "metadata": {
        "id": "YScKYUGKgKfC"
      },
      "execution_count": 2,
      "outputs": []
    },
    {
      "cell_type": "code",
      "source": [
        "# Codificar las variables categóricas\n",
        "df['Sex'] = df['Sex'].replace({'male': 0, 'female': 1})"
      ],
      "metadata": {
        "id": "1l5H_hrtgWvW"
      },
      "execution_count": 3,
      "outputs": []
    },
    {
      "cell_type": "code",
      "source": [
        "# Seleccionar las variables\n",
        "x = df[['Fare', 'Pclass', 'Parch']]\n",
        "y = df.Survived\n",
        "# Ajustar el modelo y obtener el resumen\n",
        "logit_model = sm.Logit(y, x)\n",
        "result = logit_model.fit()\n",
        "print(result.summary())"
      ],
      "metadata": {
        "colab": {
          "base_uri": "https://localhost:8080/"
        },
        "id": "AYXCMmRfgXGB",
        "outputId": "7fd28800-aea7-4484-9dc6-36df4b81e542"
      },
      "execution_count": 8,
      "outputs": [
        {
          "output_type": "stream",
          "name": "stdout",
          "text": [
            "Optimization terminated successfully.\n",
            "         Current function value: 0.610393\n",
            "         Iterations 6\n",
            "                           Logit Regression Results                           \n",
            "==============================================================================\n",
            "Dep. Variable:               Survived   No. Observations:                  714\n",
            "Model:                          Logit   Df Residuals:                      711\n",
            "Method:                           MLE   Df Model:                            2\n",
            "Date:                Sun, 23 Apr 2023   Pseudo R-squ.:                 0.09629\n",
            "Time:                        23:47:25   Log-Likelihood:                -435.82\n",
            "converged:                       True   LL-Null:                       -482.26\n",
            "Covariance Type:            nonrobust   LLR p-value:                 6.800e-21\n",
            "==============================================================================\n",
            "                 coef    std err          z      P>|z|      [0.025      0.975]\n",
            "------------------------------------------------------------------------------\n",
            "Fare           0.0107      0.002      5.197      0.000       0.007       0.015\n",
            "Pclass        -0.3957      0.041     -9.589      0.000      -0.477      -0.315\n",
            "Parch          0.1737      0.097      1.791      0.073      -0.016       0.364\n",
            "==============================================================================\n"
          ]
        }
      ]
    },
    {
      "cell_type": "code",
      "source": [],
      "metadata": {
        "id": "ml9aojSugbfh"
      },
      "execution_count": null,
      "outputs": []
    }
  ]
}